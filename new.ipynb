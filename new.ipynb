{
  "nbformat": 4,
  "nbformat_minor": 0,
  "metadata": {
    "colab": {
      "provenance": [],
      "collapsed_sections": [],
      "authorship_tag": "ABX9TyOlCr3DwDroEJbOyQdHDOd6",
      "include_colab_link": true
    },
    "kernelspec": {
      "name": "python3",
      "display_name": "Python 3"
    },
    "language_info": {
      "name": "python"
    }
  },
  "cells": [
    {
      "cell_type": "markdown",
      "metadata": {
        "id": "view-in-github",
        "colab_type": "text"
      },
      "source": [
        "<a href=\"https://colab.research.google.com/github/immortalcyber/mypy/blob/main/new.ipynb\" target=\"_parent\"><img src=\"https://colab.research.google.com/assets/colab-badge.svg\" alt=\"Open In Colab\"/></a>"
      ]
    },
    {
      "cell_type": "code",
      "execution_count": 1,
      "metadata": {
        "colab": {
          "base_uri": "https://localhost:8080/",
          "height": 710
        },
        "id": "4PUId5fxPvKt",
        "outputId": "cc2d5375-21ef-424b-9734-7bdc8fb89606"
      },
      "outputs": [
        {
          "name": "stdout",
          "output_type": "stream",
          "text": [
            "please write phone number (9161234567) : 9335248972\n",
            "Please enter your phone (or bot token): +989335248972\n"
          ]
        },
        {
          "output_type": "stream",
          "name": "stderr",
          "text": [
            "ERROR:telethon.client.updates:Fatal error handling updates (this is a bug in Telethon, please report it)\n",
            "Traceback (most recent call last):\n",
            "  File \"/usr/local/lib/python3.7/dist-packages/telethon/client/updates.py\", line 339, in _update_loop\n",
            "    updates = await asyncio.wait_for(self._updates_queue.get(), deadline_delay)\n",
            "  File \"/usr/lib/python3.7/asyncio/tasks.py\", line 435, in wait_for\n",
            "    await waiter\n",
            "concurrent.futures._base.CancelledError\n"
          ]
        },
        {
          "name": "stdout",
          "output_type": "stream",
          "text": [
            "Please enter the code you received: 40127\n",
            "Please enter your password: ··········\n"
          ]
        },
        {
          "output_type": "stream",
          "name": "stderr",
          "text": [
            "ERROR:telethon.client.updates:Fatal error handling updates (this is a bug in Telethon, please report it)\n",
            "Traceback (most recent call last):\n",
            "  File \"/usr/local/lib/python3.7/dist-packages/telethon/client/updates.py\", line 339, in _update_loop\n",
            "    updates = await asyncio.wait_for(self._updates_queue.get(), deadline_delay)\n",
            "  File \"/usr/lib/python3.7/asyncio/tasks.py\", line 435, in wait_for\n",
            "    await waiter\n",
            "concurrent.futures._base.CancelledError\n"
          ]
        },
        {
          "output_type": "stream",
          "name": "stdout",
          "text": [
            "Signed in successfully as 卐\n"
          ]
        },
        {
          "output_type": "error",
          "ename": "RuntimeError",
          "evalue": "ignored",
          "traceback": [
            "\u001b[0;31m---------------------------------------------------------------------------\u001b[0m",
            "\u001b[0;31mRuntimeError\u001b[0m                              Traceback (most recent call last)",
            "\u001b[0;32m<ipython-input-1-b0e018ba45cf>\u001b[0m in \u001b[0;36masync-def-wrapper\u001b[0;34m()\u001b[0m\n\u001b[1;32m     28\u001b[0m \u001b[0mclient\u001b[0m\u001b[0;34m.\u001b[0m\u001b[0mconnect\u001b[0m\u001b[0;34m(\u001b[0m\u001b[0;34m)\u001b[0m\u001b[0;34m\u001b[0m\u001b[0;34m\u001b[0m\u001b[0m\n\u001b[1;32m     29\u001b[0m \u001b[0;34m\u001b[0m\u001b[0m\n\u001b[0;32m---> 30\u001b[0;31m \u001b[0;32mif\u001b[0m \u001b[0;32mnot\u001b[0m \u001b[0mclient\u001b[0m\u001b[0;34m.\u001b[0m\u001b[0mis_user_authorized\u001b[0m\u001b[0;34m(\u001b[0m\u001b[0;34m)\u001b[0m\u001b[0;34m:\u001b[0m\u001b[0;34m\u001b[0m\u001b[0;34m\u001b[0m\u001b[0m\n\u001b[0m\u001b[1;32m     31\u001b[0m     \u001b[0mclient\u001b[0m\u001b[0;34m.\u001b[0m\u001b[0msend_code_request\u001b[0m\u001b[0;34m(\u001b[0m\u001b[0mphone\u001b[0m\u001b[0;34m)\u001b[0m\u001b[0;34m\u001b[0m\u001b[0;34m\u001b[0m\u001b[0m\n\u001b[1;32m     32\u001b[0m     \u001b[0mclient\u001b[0m\u001b[0;34m.\u001b[0m\u001b[0msign_in\u001b[0m\u001b[0;34m(\u001b[0m\u001b[0mphone\u001b[0m\u001b[0;34m,\u001b[0m \u001b[0minput\u001b[0m\u001b[0;34m(\u001b[0m\u001b[0;34m'Enter verification code: '\u001b[0m\u001b[0;34m)\u001b[0m\u001b[0;34m)\u001b[0m\u001b[0;34m\u001b[0m\u001b[0;34m\u001b[0m\u001b[0m\n",
            "\u001b[0;32m/usr/lib/python3.7/asyncio/base_events.py\u001b[0m in \u001b[0;36mrun_until_complete\u001b[0;34m(self, future)\u001b[0m\n\u001b[1;32m    561\u001b[0m         \"\"\"\n\u001b[1;32m    562\u001b[0m         \u001b[0mself\u001b[0m\u001b[0;34m.\u001b[0m\u001b[0m_check_closed\u001b[0m\u001b[0;34m(\u001b[0m\u001b[0;34m)\u001b[0m\u001b[0;34m\u001b[0m\u001b[0;34m\u001b[0m\u001b[0m\n\u001b[0;32m--> 563\u001b[0;31m         \u001b[0mself\u001b[0m\u001b[0;34m.\u001b[0m\u001b[0m_check_runnung\u001b[0m\u001b[0;34m(\u001b[0m\u001b[0;34m)\u001b[0m\u001b[0;34m\u001b[0m\u001b[0;34m\u001b[0m\u001b[0m\n\u001b[0m\u001b[1;32m    564\u001b[0m \u001b[0;34m\u001b[0m\u001b[0m\n\u001b[1;32m    565\u001b[0m         \u001b[0mnew_task\u001b[0m \u001b[0;34m=\u001b[0m \u001b[0;32mnot\u001b[0m \u001b[0mfutures\u001b[0m\u001b[0;34m.\u001b[0m\u001b[0misfuture\u001b[0m\u001b[0;34m(\u001b[0m\u001b[0mfuture\u001b[0m\u001b[0;34m)\u001b[0m\u001b[0;34m\u001b[0m\u001b[0;34m\u001b[0m\u001b[0m\n",
            "\u001b[0;32m/usr/lib/python3.7/asyncio/base_events.py\u001b[0m in \u001b[0;36m_check_runnung\u001b[0;34m(self)\u001b[0m\n\u001b[1;32m    521\u001b[0m     \u001b[0;32mdef\u001b[0m \u001b[0m_check_runnung\u001b[0m\u001b[0;34m(\u001b[0m\u001b[0mself\u001b[0m\u001b[0;34m)\u001b[0m\u001b[0;34m:\u001b[0m\u001b[0;34m\u001b[0m\u001b[0;34m\u001b[0m\u001b[0m\n\u001b[1;32m    522\u001b[0m         \u001b[0;32mif\u001b[0m \u001b[0mself\u001b[0m\u001b[0;34m.\u001b[0m\u001b[0mis_running\u001b[0m\u001b[0;34m(\u001b[0m\u001b[0;34m)\u001b[0m\u001b[0;34m:\u001b[0m\u001b[0;34m\u001b[0m\u001b[0;34m\u001b[0m\u001b[0m\n\u001b[0;32m--> 523\u001b[0;31m             \u001b[0;32mraise\u001b[0m \u001b[0mRuntimeError\u001b[0m\u001b[0;34m(\u001b[0m\u001b[0;34m'This event loop is already running'\u001b[0m\u001b[0;34m)\u001b[0m\u001b[0;34m\u001b[0m\u001b[0;34m\u001b[0m\u001b[0m\n\u001b[0m\u001b[1;32m    524\u001b[0m         \u001b[0;32mif\u001b[0m \u001b[0mevents\u001b[0m\u001b[0;34m.\u001b[0m\u001b[0m_get_running_loop\u001b[0m\u001b[0;34m(\u001b[0m\u001b[0;34m)\u001b[0m \u001b[0;32mis\u001b[0m \u001b[0;32mnot\u001b[0m \u001b[0;32mNone\u001b[0m\u001b[0;34m:\u001b[0m\u001b[0;34m\u001b[0m\u001b[0;34m\u001b[0m\u001b[0m\n\u001b[1;32m    525\u001b[0m             raise RuntimeError(\n",
            "\u001b[0;31mRuntimeError\u001b[0m: This event loop is already running"
          ]
        }
      ],
      "source": [
        "from telethon.sync import TelegramClient, connection, errors\n",
        "from telethon.tl.functions.messages import GetDialogsRequest\n",
        "from telethon.tl.types import InputPeerEmpty\n",
        "import csv\n",
        "\n",
        "\n",
        "#################################################\n",
        "\n",
        "api_id = 1751996\n",
        "api_hash = '1b84eab81c299f5aee5fc627c3e0d563'\n",
        "phone =\"+98\" + input(\"please write phone number (9161234567) : \")\n",
        "\n",
        "#################################################\n",
        "\n",
        "\n",
        "\n",
        "\n",
        "client = TelegramClient(phone, api_id, api_hash)\n",
        "\n",
        "connection=connection.ConnectionTcpMTProxyRandomizedIntermediate,\n",
        "proxy=('89.36.94.76', 88, '7tpqp8KsYZwGDzVfPxcyVzdzZWdtZW50LnByb2QuYmlkci5pbw')\n",
        "\n",
        "async def main():\n",
        "    await client.send_message('me', 'Hello Im On')\n",
        "    \n",
        "async with client:\n",
        "    client.loop.run_until_complete(main())\n",
        "client.connect()\n",
        "\n",
        " if not client.is_user_authorized():\n",
        "    client.send_code_request(phone)\n",
        "    client.sign_in(phone, input('Enter verification code: '))\n",
        "\n",
        "\n",
        "chats = []\n",
        "last_date = None\n",
        "chunk_size = 200\n",
        "groups=[]\n",
        "\n",
        "result = client(GetDialogsRequest(\n",
        "             offset_date=last_date,\n",
        "             offset_id=0,\n",
        "             offset_peer=InputPeerEmpty(),\n",
        "             limit=chunk_size,\n",
        "             hash = 0\n",
        "         ))\n",
        "chats.extend(result.chats)\n",
        "\n",
        "for chat in chats:\n",
        "    try:\n",
        "        if chat.megagroup== True:\n",
        "            groups.append(chat)\n",
        "    except:\n",
        "        continue\n",
        "\n",
        "print('From Which Group Yow Want To Scrap A Members:')\n",
        "i=0\n",
        "for g in groups:\n",
        "    print(str(i) + '- ' + g.title)\n",
        "    i+=1\n",
        "\n",
        "g_index = input(\"Please! Enter a Number: \")\n",
        "target_group=groups[int(g_index)]\n",
        "\n",
        "print('Fetching Members...')\n",
        "all_participants = []\n",
        "all_participants = client.get_participants(target_group, aggressive=True)\n",
        "\n",
        "print('Saving In file...')\n",
        "with open(\"members.csv\",\"w\",encoding='UTF-8') as f:\n",
        "    writer = csv.writer(f,delimiter=\",\",lineterminator=\"\\n\")\n",
        "    writer.writerow(['username','user id', 'access hash','name','group', 'group id'])\n",
        "    for user in all_participants:\n",
        "        if user.username:\n",
        "            username= user.username\n",
        "        else:\n",
        "            username= \"\"\n",
        "        if user.first_name:\n",
        "            first_name= user.first_name\n",
        "        else:\n",
        "            first_name= \"\"\n",
        "        if user.last_name:\n",
        "            last_name= user.last_name\n",
        "        else:\n",
        "            last_name= \"\"\n",
        "        name= (first_name + ' ' + last_name).strip()\n",
        "        writer.writerow([username,user.id,user.access_hash,name,target_group.title, target_group.id])\n",
        "print('Members scraped successfully.......')"
      ]
    },
    {
      "cell_type": "code",
      "source": [],
      "metadata": {
        "id": "kfG5wFJsRXma"
      },
      "execution_count": null,
      "outputs": []
    }
  ]
}